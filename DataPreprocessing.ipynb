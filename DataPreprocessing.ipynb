{
 "cells": [
  {
   "cell_type": "code",
   "execution_count": 1,
   "id": "90610aee",
   "metadata": {},
   "outputs": [],
   "source": [
    "import numpy as np\n",
    "import pandas as pd\n",
    "import matplotlib.pyplot as plt\n",
    "import seaborn as sns\n",
    "import scipy.stats as stats"
   ]
  },
  {
   "cell_type": "markdown",
   "id": "d00a0072",
   "metadata": {},
   "source": [
    "## Load dataset"
   ]
  },
  {
   "cell_type": "code",
   "execution_count": 2,
   "id": "6f283198",
   "metadata": {},
   "outputs": [],
   "source": [
    "path = 'https://archive.ics.uci.edu/ml/machine-learning-databases/00597/garments_worker_productivity.csv'"
   ]
  },
  {
   "cell_type": "code",
   "execution_count": 3,
   "id": "8ac4462c",
   "metadata": {},
   "outputs": [],
   "source": [
    "df = pd.read_csv(path)"
   ]
  },
  {
   "cell_type": "code",
   "execution_count": 4,
   "id": "52a20424",
   "metadata": {},
   "outputs": [
    {
     "data": {
      "text/html": [
       "<div>\n",
       "<style scoped>\n",
       "    .dataframe tbody tr th:only-of-type {\n",
       "        vertical-align: middle;\n",
       "    }\n",
       "\n",
       "    .dataframe tbody tr th {\n",
       "        vertical-align: top;\n",
       "    }\n",
       "\n",
       "    .dataframe thead th {\n",
       "        text-align: right;\n",
       "    }\n",
       "</style>\n",
       "<table border=\"1\" class=\"dataframe\">\n",
       "  <thead>\n",
       "    <tr style=\"text-align: right;\">\n",
       "      <th></th>\n",
       "      <th>date</th>\n",
       "      <th>quarter</th>\n",
       "      <th>department</th>\n",
       "      <th>day</th>\n",
       "      <th>team</th>\n",
       "      <th>targeted_productivity</th>\n",
       "      <th>smv</th>\n",
       "      <th>wip</th>\n",
       "      <th>over_time</th>\n",
       "      <th>incentive</th>\n",
       "      <th>idle_time</th>\n",
       "      <th>idle_men</th>\n",
       "      <th>no_of_style_change</th>\n",
       "      <th>no_of_workers</th>\n",
       "      <th>actual_productivity</th>\n",
       "    </tr>\n",
       "  </thead>\n",
       "  <tbody>\n",
       "    <tr>\n",
       "      <th>325</th>\n",
       "      <td>1/19/2015</td>\n",
       "      <td>Quarter3</td>\n",
       "      <td>sweing</td>\n",
       "      <td>Monday</td>\n",
       "      <td>2</td>\n",
       "      <td>0.70</td>\n",
       "      <td>22.94</td>\n",
       "      <td>1006.0</td>\n",
       "      <td>10170</td>\n",
       "      <td>38</td>\n",
       "      <td>0.0</td>\n",
       "      <td>0</td>\n",
       "      <td>0</td>\n",
       "      <td>56.5</td>\n",
       "      <td>0.750518</td>\n",
       "    </tr>\n",
       "    <tr>\n",
       "      <th>487</th>\n",
       "      <td>1/28/2015</td>\n",
       "      <td>Quarter4</td>\n",
       "      <td>finishing</td>\n",
       "      <td>Wednesday</td>\n",
       "      <td>12</td>\n",
       "      <td>0.75</td>\n",
       "      <td>4.08</td>\n",
       "      <td>NaN</td>\n",
       "      <td>1080</td>\n",
       "      <td>0</td>\n",
       "      <td>0.0</td>\n",
       "      <td>0</td>\n",
       "      <td>0</td>\n",
       "      <td>9.0</td>\n",
       "      <td>0.755556</td>\n",
       "    </tr>\n",
       "    <tr>\n",
       "      <th>1008</th>\n",
       "      <td>3/2/2015</td>\n",
       "      <td>Quarter1</td>\n",
       "      <td>sweing</td>\n",
       "      <td>Monday</td>\n",
       "      <td>1</td>\n",
       "      <td>0.65</td>\n",
       "      <td>26.66</td>\n",
       "      <td>1527.0</td>\n",
       "      <td>6840</td>\n",
       "      <td>65</td>\n",
       "      <td>0.0</td>\n",
       "      <td>0</td>\n",
       "      <td>0</td>\n",
       "      <td>57.0</td>\n",
       "      <td>0.800580</td>\n",
       "    </tr>\n",
       "    <tr>\n",
       "      <th>553</th>\n",
       "      <td>2/1/2015</td>\n",
       "      <td>Quarter1</td>\n",
       "      <td>sweing</td>\n",
       "      <td>Sunday</td>\n",
       "      <td>9</td>\n",
       "      <td>0.75</td>\n",
       "      <td>29.12</td>\n",
       "      <td>1282.0</td>\n",
       "      <td>6960</td>\n",
       "      <td>45</td>\n",
       "      <td>0.0</td>\n",
       "      <td>0</td>\n",
       "      <td>0</td>\n",
       "      <td>58.0</td>\n",
       "      <td>0.750593</td>\n",
       "    </tr>\n",
       "    <tr>\n",
       "      <th>817</th>\n",
       "      <td>2/17/2015</td>\n",
       "      <td>Quarter3</td>\n",
       "      <td>sweing</td>\n",
       "      <td>Tuesday</td>\n",
       "      <td>9</td>\n",
       "      <td>0.65</td>\n",
       "      <td>18.79</td>\n",
       "      <td>2120.0</td>\n",
       "      <td>5520</td>\n",
       "      <td>0</td>\n",
       "      <td>0.0</td>\n",
       "      <td>0</td>\n",
       "      <td>1</td>\n",
       "      <td>51.0</td>\n",
       "      <td>0.650134</td>\n",
       "    </tr>\n",
       "    <tr>\n",
       "      <th>347</th>\n",
       "      <td>1/20/2015</td>\n",
       "      <td>Quarter3</td>\n",
       "      <td>sweing</td>\n",
       "      <td>Tuesday</td>\n",
       "      <td>5</td>\n",
       "      <td>0.70</td>\n",
       "      <td>20.40</td>\n",
       "      <td>1352.0</td>\n",
       "      <td>10260</td>\n",
       "      <td>50</td>\n",
       "      <td>0.0</td>\n",
       "      <td>0</td>\n",
       "      <td>0</td>\n",
       "      <td>57.0</td>\n",
       "      <td>0.700064</td>\n",
       "    </tr>\n",
       "    <tr>\n",
       "      <th>571</th>\n",
       "      <td>2/2/2015</td>\n",
       "      <td>Quarter1</td>\n",
       "      <td>finishing</td>\n",
       "      <td>Monday</td>\n",
       "      <td>12</td>\n",
       "      <td>0.75</td>\n",
       "      <td>4.08</td>\n",
       "      <td>NaN</td>\n",
       "      <td>1080</td>\n",
       "      <td>0</td>\n",
       "      <td>0.0</td>\n",
       "      <td>0</td>\n",
       "      <td>0</td>\n",
       "      <td>9.0</td>\n",
       "      <td>0.740444</td>\n",
       "    </tr>\n",
       "    <tr>\n",
       "      <th>259</th>\n",
       "      <td>1/15/2015</td>\n",
       "      <td>Quarter3</td>\n",
       "      <td>finishing</td>\n",
       "      <td>Thursday</td>\n",
       "      <td>4</td>\n",
       "      <td>0.35</td>\n",
       "      <td>4.30</td>\n",
       "      <td>NaN</td>\n",
       "      <td>3600</td>\n",
       "      <td>0</td>\n",
       "      <td>0.0</td>\n",
       "      <td>0</td>\n",
       "      <td>0</td>\n",
       "      <td>20.0</td>\n",
       "      <td>0.988636</td>\n",
       "    </tr>\n",
       "    <tr>\n",
       "      <th>557</th>\n",
       "      <td>2/1/2015</td>\n",
       "      <td>Quarter1</td>\n",
       "      <td>sweing</td>\n",
       "      <td>Sunday</td>\n",
       "      <td>6</td>\n",
       "      <td>0.65</td>\n",
       "      <td>18.79</td>\n",
       "      <td>881.0</td>\n",
       "      <td>3960</td>\n",
       "      <td>26</td>\n",
       "      <td>0.0</td>\n",
       "      <td>0</td>\n",
       "      <td>0</td>\n",
       "      <td>33.0</td>\n",
       "      <td>0.651007</td>\n",
       "    </tr>\n",
       "    <tr>\n",
       "      <th>596</th>\n",
       "      <td>2/3/2015</td>\n",
       "      <td>Quarter1</td>\n",
       "      <td>finishing</td>\n",
       "      <td>Tuesday</td>\n",
       "      <td>4</td>\n",
       "      <td>0.80</td>\n",
       "      <td>4.30</td>\n",
       "      <td>NaN</td>\n",
       "      <td>1440</td>\n",
       "      <td>0</td>\n",
       "      <td>0.0</td>\n",
       "      <td>0</td>\n",
       "      <td>0</td>\n",
       "      <td>12.0</td>\n",
       "      <td>0.537500</td>\n",
       "    </tr>\n",
       "  </tbody>\n",
       "</table>\n",
       "</div>"
      ],
      "text/plain": [
       "           date   quarter  department        day  team  targeted_productivity  \\\n",
       "325   1/19/2015  Quarter3      sweing     Monday     2                   0.70   \n",
       "487   1/28/2015  Quarter4  finishing   Wednesday    12                   0.75   \n",
       "1008   3/2/2015  Quarter1      sweing     Monday     1                   0.65   \n",
       "553    2/1/2015  Quarter1      sweing     Sunday     9                   0.75   \n",
       "817   2/17/2015  Quarter3      sweing    Tuesday     9                   0.65   \n",
       "347   1/20/2015  Quarter3      sweing    Tuesday     5                   0.70   \n",
       "571    2/2/2015  Quarter1  finishing      Monday    12                   0.75   \n",
       "259   1/15/2015  Quarter3  finishing    Thursday     4                   0.35   \n",
       "557    2/1/2015  Quarter1      sweing     Sunday     6                   0.65   \n",
       "596    2/3/2015  Quarter1  finishing     Tuesday     4                   0.80   \n",
       "\n",
       "        smv     wip  over_time  incentive  idle_time  idle_men  \\\n",
       "325   22.94  1006.0      10170         38        0.0         0   \n",
       "487    4.08     NaN       1080          0        0.0         0   \n",
       "1008  26.66  1527.0       6840         65        0.0         0   \n",
       "553   29.12  1282.0       6960         45        0.0         0   \n",
       "817   18.79  2120.0       5520          0        0.0         0   \n",
       "347   20.40  1352.0      10260         50        0.0         0   \n",
       "571    4.08     NaN       1080          0        0.0         0   \n",
       "259    4.30     NaN       3600          0        0.0         0   \n",
       "557   18.79   881.0       3960         26        0.0         0   \n",
       "596    4.30     NaN       1440          0        0.0         0   \n",
       "\n",
       "      no_of_style_change  no_of_workers  actual_productivity  \n",
       "325                    0           56.5             0.750518  \n",
       "487                    0            9.0             0.755556  \n",
       "1008                   0           57.0             0.800580  \n",
       "553                    0           58.0             0.750593  \n",
       "817                    1           51.0             0.650134  \n",
       "347                    0           57.0             0.700064  \n",
       "571                    0            9.0             0.740444  \n",
       "259                    0           20.0             0.988636  \n",
       "557                    0           33.0             0.651007  \n",
       "596                    0           12.0             0.537500  "
      ]
     },
     "execution_count": 4,
     "metadata": {},
     "output_type": "execute_result"
    }
   ],
   "source": [
    "df.sample(n=10)"
   ]
  },
  {
   "cell_type": "code",
   "execution_count": 5,
   "id": "020d5537",
   "metadata": {},
   "outputs": [
    {
     "data": {
      "text/plain": [
       "(1197, 15)"
      ]
     },
     "execution_count": 5,
     "metadata": {},
     "output_type": "execute_result"
    }
   ],
   "source": [
    "df.shape"
   ]
  },
  {
   "cell_type": "markdown",
   "id": "e779eb83",
   "metadata": {},
   "source": [
    "Bộ dữ liệu có 1197 sample và 15 feature."
   ]
  },
  {
   "cell_type": "markdown",
   "id": "765e0460",
   "metadata": {},
   "source": [
    "## Data wrangling"
   ]
  },
  {
   "cell_type": "markdown",
   "id": "8dd802b2",
   "metadata": {},
   "source": [
    "Kiểm tra kiểu dữ liệu của từng cột."
   ]
  },
  {
   "cell_type": "code",
   "execution_count": 6,
   "id": "3acc2f55",
   "metadata": {},
   "outputs": [
    {
     "name": "stdout",
     "output_type": "stream",
     "text": [
      "<class 'pandas.core.frame.DataFrame'>\n",
      "RangeIndex: 1197 entries, 0 to 1196\n",
      "Data columns (total 15 columns):\n",
      " #   Column                 Non-Null Count  Dtype  \n",
      "---  ------                 --------------  -----  \n",
      " 0   date                   1197 non-null   object \n",
      " 1   quarter                1197 non-null   object \n",
      " 2   department             1197 non-null   object \n",
      " 3   day                    1197 non-null   object \n",
      " 4   team                   1197 non-null   int64  \n",
      " 5   targeted_productivity  1197 non-null   float64\n",
      " 6   smv                    1197 non-null   float64\n",
      " 7   wip                    691 non-null    float64\n",
      " 8   over_time              1197 non-null   int64  \n",
      " 9   incentive              1197 non-null   int64  \n",
      " 10  idle_time              1197 non-null   float64\n",
      " 11  idle_men               1197 non-null   int64  \n",
      " 12  no_of_style_change     1197 non-null   int64  \n",
      " 13  no_of_workers          1197 non-null   float64\n",
      " 14  actual_productivity    1197 non-null   float64\n",
      "dtypes: float64(6), int64(5), object(4)\n",
      "memory usage: 140.4+ KB\n"
     ]
    }
   ],
   "source": [
    "df.info()"
   ]
  },
  {
   "cell_type": "markdown",
   "id": "4b9cd93b",
   "metadata": {},
   "source": [
    "Chuyển kiểu của 'date' về dạng datetime."
   ]
  },
  {
   "cell_type": "code",
   "execution_count": 7,
   "id": "c7aad8e9",
   "metadata": {},
   "outputs": [],
   "source": [
    "df['date'] = pd.to_datetime(df['date'])"
   ]
  },
  {
   "cell_type": "code",
   "execution_count": 8,
   "id": "3dd1b098",
   "metadata": {},
   "outputs": [
    {
     "data": {
      "text/plain": [
       "1186   2015-03-11\n",
       "1118   2015-03-08\n",
       "679    2015-02-09\n",
       "166    2015-01-10\n",
       "623    2015-02-05\n",
       "Name: date, dtype: datetime64[ns]"
      ]
     },
     "execution_count": 8,
     "metadata": {},
     "output_type": "execute_result"
    }
   ],
   "source": [
    "df['date'].sample(n=5)"
   ]
  },
  {
   "cell_type": "markdown",
   "id": "4f0a8602",
   "metadata": {},
   "source": [
    "Xem các giá trị khác nhau của các biến kiểu object."
   ]
  },
  {
   "cell_type": "code",
   "execution_count": 9,
   "id": "a8d0522a",
   "metadata": {},
   "outputs": [
    {
     "data": {
      "text/plain": [
       "array(['Quarter1', 'Quarter2', 'Quarter3', 'Quarter4', 'Quarter5'],\n",
       "      dtype=object)"
      ]
     },
     "execution_count": 9,
     "metadata": {},
     "output_type": "execute_result"
    }
   ],
   "source": [
    "df['quarter'].unique()"
   ]
  },
  {
   "cell_type": "code",
   "execution_count": 10,
   "id": "635f771c",
   "metadata": {},
   "outputs": [
    {
     "data": {
      "text/plain": [
       "array(['sweing', 'finishing ', 'finishing'], dtype=object)"
      ]
     },
     "execution_count": 10,
     "metadata": {},
     "output_type": "execute_result"
    }
   ],
   "source": [
    "df['department'].unique()"
   ]
  },
  {
   "cell_type": "markdown",
   "id": "2cbc8c4e",
   "metadata": {},
   "source": [
    "Có 2 department là 'sweing' (bị viết sai chính tả) và 'finishing' (có 1 từ bị dư dấu cách cuối). Sửa lại cho đúng."
   ]
  },
  {
   "cell_type": "code",
   "execution_count": 11,
   "id": "cf220b54",
   "metadata": {},
   "outputs": [],
   "source": [
    "df['department'] = df['department'].apply(lambda x: 'sewing' if x == 'sweing' else 'finishing')"
   ]
  },
  {
   "cell_type": "code",
   "execution_count": 12,
   "id": "02a6c31f",
   "metadata": {},
   "outputs": [
    {
     "data": {
      "text/plain": [
       "array(['sewing', 'finishing'], dtype=object)"
      ]
     },
     "execution_count": 12,
     "metadata": {},
     "output_type": "execute_result"
    }
   ],
   "source": [
    "df['department'].unique()"
   ]
  },
  {
   "cell_type": "code",
   "execution_count": 13,
   "id": "bc46099e",
   "metadata": {},
   "outputs": [
    {
     "data": {
      "text/plain": [
       "array(['Thursday', 'Saturday', 'Sunday', 'Monday', 'Tuesday', 'Wednesday'],\n",
       "      dtype=object)"
      ]
     },
     "execution_count": 13,
     "metadata": {},
     "output_type": "execute_result"
    }
   ],
   "source": [
    "df['day'].unique()"
   ]
  },
  {
   "cell_type": "markdown",
   "id": "7877a8ac",
   "metadata": {},
   "source": [
    "Trong df['day'] không có 'Friday', các công nhân được nghỉ ngày thứ sáu."
   ]
  },
  {
   "cell_type": "code",
   "execution_count": 14,
   "id": "705ba98a",
   "metadata": {},
   "outputs": [
    {
     "data": {
      "text/plain": [
       "array([ 8,  1, 11, 12,  6,  7,  2,  3,  9, 10,  5,  4], dtype=int64)"
      ]
     },
     "execution_count": 14,
     "metadata": {},
     "output_type": "execute_result"
    }
   ],
   "source": [
    "df['team'].unique()"
   ]
  },
  {
   "cell_type": "markdown",
   "id": "babded33",
   "metadata": {},
   "source": [
    "Biến 'team' mang tính phân loại (categorical), vì ý nghĩa của nó là số thứ tự của team chứ không mang ý nghĩa về mặt giá trị số. Có thể chuyển về 'object' cũng được hoặc giữ nguyên cũng được (nhưng phân tích như biến categorical)."
   ]
  },
  {
   "cell_type": "markdown",
   "id": "ca602da1",
   "metadata": {},
   "source": [
    "Kiểm tra giá trị null."
   ]
  },
  {
   "cell_type": "code",
   "execution_count": 15,
   "id": "a09a83c2",
   "metadata": {},
   "outputs": [
    {
     "data": {
      "text/plain": [
       "date                       0\n",
       "quarter                    0\n",
       "department                 0\n",
       "day                        0\n",
       "team                       0\n",
       "targeted_productivity      0\n",
       "smv                        0\n",
       "wip                      506\n",
       "over_time                  0\n",
       "incentive                  0\n",
       "idle_time                  0\n",
       "idle_men                   0\n",
       "no_of_style_change         0\n",
       "no_of_workers              0\n",
       "actual_productivity        0\n",
       "dtype: int64"
      ]
     },
     "execution_count": 15,
     "metadata": {},
     "output_type": "execute_result"
    }
   ],
   "source": [
    "df.isna().sum(axis=0)"
   ]
  },
  {
   "cell_type": "markdown",
   "id": "e9769cb4",
   "metadata": {},
   "source": [
    "Feature 'wip' có tới 506 giá trị null, ta điền giá trị khuyết bằng phương pháp kNN với thư viện sklearn."
   ]
  },
  {
   "cell_type": "code",
   "execution_count": 16,
   "id": "dbae131a",
   "metadata": {},
   "outputs": [],
   "source": [
    "from sklearn.impute import KNNImputer\n",
    "\n",
    "imputer = KNNImputer()\n",
    "df[df.columns[4:]] = imputer.fit_transform(df.iloc[:,4:])"
   ]
  },
  {
   "cell_type": "code",
   "execution_count": 17,
   "id": "2790f50e",
   "metadata": {
    "scrolled": true
   },
   "outputs": [
    {
     "data": {
      "text/plain": [
       "0"
      ]
     },
     "execution_count": 17,
     "metadata": {},
     "output_type": "execute_result"
    }
   ],
   "source": [
    "df['wip'].isna().sum()"
   ]
  },
  {
   "cell_type": "code",
   "execution_count": 18,
   "id": "be9babf1",
   "metadata": {},
   "outputs": [
    {
     "data": {
      "text/plain": [
       "0       1108.0\n",
       "1        994.4\n",
       "2        968.0\n",
       "3        968.0\n",
       "4       1170.0\n",
       "         ...  \n",
       "1192     994.4\n",
       "1193     994.4\n",
       "1194     994.4\n",
       "1195     632.8\n",
       "1196     926.0\n",
       "Name: wip, Length: 1197, dtype: float64"
      ]
     },
     "execution_count": 18,
     "metadata": {},
     "output_type": "execute_result"
    }
   ],
   "source": [
    "df['wip']"
   ]
  },
  {
   "cell_type": "markdown",
   "id": "292c6d3e",
   "metadata": {},
   "source": [
    "## Wrapping in a single function"
   ]
  },
  {
   "cell_type": "code",
   "execution_count": 19,
   "id": "f437a081",
   "metadata": {},
   "outputs": [],
   "source": [
    "def data_loader(path='https://archive.ics.uci.edu/ml/machine-learning-databases/00597/garments_worker_productivity.csv',\n",
    "                preprocessing=False):\n",
    "    df = pd.read_csv(path)\n",
    "    if preprocessing == True:\n",
    "        df['date'] = pd.to_datetime(df['date'])\n",
    "        df['department'] = df['department'].apply(lambda x: 'sewing' if x == 'sweing' else 'finishing')\n",
    "        from sklearn.impute import KNNImputer\n",
    "        imputer = KNNImputer()\n",
    "        df[df.columns[4:]] = imputer.fit_transform(df.iloc[:,4:])\n",
    "    return df"
   ]
  },
  {
   "cell_type": "code",
   "execution_count": 20,
   "id": "cdc9b997",
   "metadata": {},
   "outputs": [],
   "source": [
    "df1 = data_loader(preprocessing=True)"
   ]
  },
  {
   "cell_type": "code",
   "execution_count": 21,
   "id": "500dbf6a",
   "metadata": {},
   "outputs": [
    {
     "data": {
      "text/plain": [
       "date                     datetime64[ns]\n",
       "quarter                          object\n",
       "department                       object\n",
       "day                              object\n",
       "team                            float64\n",
       "targeted_productivity           float64\n",
       "smv                             float64\n",
       "wip                             float64\n",
       "over_time                       float64\n",
       "incentive                       float64\n",
       "idle_time                       float64\n",
       "idle_men                        float64\n",
       "no_of_style_change              float64\n",
       "no_of_workers                   float64\n",
       "actual_productivity             float64\n",
       "dtype: object"
      ]
     },
     "execution_count": 21,
     "metadata": {},
     "output_type": "execute_result"
    }
   ],
   "source": [
    "df1.dtypes"
   ]
  },
  {
   "cell_type": "code",
   "execution_count": 22,
   "id": "3e8f01cb",
   "metadata": {},
   "outputs": [
    {
     "data": {
      "text/plain": [
       "date                     0\n",
       "quarter                  0\n",
       "department               0\n",
       "day                      0\n",
       "team                     0\n",
       "targeted_productivity    0\n",
       "smv                      0\n",
       "wip                      0\n",
       "over_time                0\n",
       "incentive                0\n",
       "idle_time                0\n",
       "idle_men                 0\n",
       "no_of_style_change       0\n",
       "no_of_workers            0\n",
       "actual_productivity      0\n",
       "dtype: int64"
      ]
     },
     "execution_count": 22,
     "metadata": {},
     "output_type": "execute_result"
    }
   ],
   "source": [
    "df1.isna().sum(axis=0)"
   ]
  }
 ],
 "metadata": {
  "kernelspec": {
   "display_name": "TensorFlowGPU",
   "language": "python",
   "name": "tf_gpu"
  },
  "language_info": {
   "codemirror_mode": {
    "name": "ipython",
    "version": 3
   },
   "file_extension": ".py",
   "mimetype": "text/x-python",
   "name": "python",
   "nbconvert_exporter": "python",
   "pygments_lexer": "ipython3",
   "version": "3.8.0"
  }
 },
 "nbformat": 4,
 "nbformat_minor": 5
}
