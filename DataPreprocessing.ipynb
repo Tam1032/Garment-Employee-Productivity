{
 "cells": [
  {
   "cell_type": "code",
   "execution_count": 1,
   "id": "90610aee",
   "metadata": {},
   "outputs": [],
   "source": [
    "import numpy as np\n",
    "import pandas as pd\n",
    "import matplotlib.pyplot as plt\n",
    "import seaborn as sns\n",
    "import scipy.stats as stats"
   ]
  },
  {
   "cell_type": "markdown",
   "id": "d00a0072",
   "metadata": {},
   "source": [
    "## Load dataset"
   ]
  },
  {
   "cell_type": "code",
   "execution_count": 2,
   "id": "6f283198",
   "metadata": {},
   "outputs": [],
   "source": [
    "path = 'https://archive.ics.uci.edu/ml/machine-learning-databases/00597/garments_worker_productivity.csv'"
   ]
  },
  {
   "cell_type": "code",
   "execution_count": 3,
   "id": "8ac4462c",
   "metadata": {},
   "outputs": [],
   "source": [
    "df = pd.read_csv(path)"
   ]
  },
  {
   "cell_type": "code",
   "execution_count": 4,
   "id": "52a20424",
   "metadata": {},
   "outputs": [
    {
     "data": {
      "text/html": [
       "<div>\n",
       "<style scoped>\n",
       "    .dataframe tbody tr th:only-of-type {\n",
       "        vertical-align: middle;\n",
       "    }\n",
       "\n",
       "    .dataframe tbody tr th {\n",
       "        vertical-align: top;\n",
       "    }\n",
       "\n",
       "    .dataframe thead th {\n",
       "        text-align: right;\n",
       "    }\n",
       "</style>\n",
       "<table border=\"1\" class=\"dataframe\">\n",
       "  <thead>\n",
       "    <tr style=\"text-align: right;\">\n",
       "      <th></th>\n",
       "      <th>date</th>\n",
       "      <th>quarter</th>\n",
       "      <th>department</th>\n",
       "      <th>day</th>\n",
       "      <th>team</th>\n",
       "      <th>targeted_productivity</th>\n",
       "      <th>smv</th>\n",
       "      <th>wip</th>\n",
       "      <th>over_time</th>\n",
       "      <th>incentive</th>\n",
       "      <th>idle_time</th>\n",
       "      <th>idle_men</th>\n",
       "      <th>no_of_style_change</th>\n",
       "      <th>no_of_workers</th>\n",
       "      <th>actual_productivity</th>\n",
       "    </tr>\n",
       "  </thead>\n",
       "  <tbody>\n",
       "    <tr>\n",
       "      <th>531</th>\n",
       "      <td>1/31/2015</td>\n",
       "      <td>Quarter5</td>\n",
       "      <td>finishing</td>\n",
       "      <td>Saturday</td>\n",
       "      <td>6</td>\n",
       "      <td>0.60</td>\n",
       "      <td>3.94</td>\n",
       "      <td>NaN</td>\n",
       "      <td>1200</td>\n",
       "      <td>0</td>\n",
       "      <td>0.0</td>\n",
       "      <td>0</td>\n",
       "      <td>0</td>\n",
       "      <td>10.0</td>\n",
       "      <td>0.971867</td>\n",
       "    </tr>\n",
       "    <tr>\n",
       "      <th>993</th>\n",
       "      <td>3/1/2015</td>\n",
       "      <td>Quarter1</td>\n",
       "      <td>sweing</td>\n",
       "      <td>Sunday</td>\n",
       "      <td>10</td>\n",
       "      <td>0.70</td>\n",
       "      <td>21.82</td>\n",
       "      <td>1393.0</td>\n",
       "      <td>5640</td>\n",
       "      <td>30</td>\n",
       "      <td>0.0</td>\n",
       "      <td>0</td>\n",
       "      <td>0</td>\n",
       "      <td>52.0</td>\n",
       "      <td>0.700237</td>\n",
       "    </tr>\n",
       "    <tr>\n",
       "      <th>664</th>\n",
       "      <td>2/8/2015</td>\n",
       "      <td>Quarter2</td>\n",
       "      <td>sweing</td>\n",
       "      <td>Sunday</td>\n",
       "      <td>12</td>\n",
       "      <td>0.80</td>\n",
       "      <td>15.26</td>\n",
       "      <td>1026.0</td>\n",
       "      <td>2880</td>\n",
       "      <td>63</td>\n",
       "      <td>0.0</td>\n",
       "      <td>0</td>\n",
       "      <td>0</td>\n",
       "      <td>34.0</td>\n",
       "      <td>0.800355</td>\n",
       "    </tr>\n",
       "    <tr>\n",
       "      <th>554</th>\n",
       "      <td>2/1/2015</td>\n",
       "      <td>Quarter1</td>\n",
       "      <td>sweing</td>\n",
       "      <td>Sunday</td>\n",
       "      <td>12</td>\n",
       "      <td>0.75</td>\n",
       "      <td>15.26</td>\n",
       "      <td>1276.0</td>\n",
       "      <td>1440</td>\n",
       "      <td>45</td>\n",
       "      <td>0.0</td>\n",
       "      <td>0</td>\n",
       "      <td>0</td>\n",
       "      <td>35.0</td>\n",
       "      <td>0.750451</td>\n",
       "    </tr>\n",
       "    <tr>\n",
       "      <th>900</th>\n",
       "      <td>2/23/2015</td>\n",
       "      <td>Quarter4</td>\n",
       "      <td>finishing</td>\n",
       "      <td>Monday</td>\n",
       "      <td>9</td>\n",
       "      <td>0.80</td>\n",
       "      <td>2.90</td>\n",
       "      <td>NaN</td>\n",
       "      <td>960</td>\n",
       "      <td>0</td>\n",
       "      <td>0.0</td>\n",
       "      <td>0</td>\n",
       "      <td>0</td>\n",
       "      <td>8.0</td>\n",
       "      <td>0.371563</td>\n",
       "    </tr>\n",
       "    <tr>\n",
       "      <th>825</th>\n",
       "      <td>2/18/2015</td>\n",
       "      <td>Quarter3</td>\n",
       "      <td>finishing</td>\n",
       "      <td>Wednesday</td>\n",
       "      <td>2</td>\n",
       "      <td>0.80</td>\n",
       "      <td>5.13</td>\n",
       "      <td>NaN</td>\n",
       "      <td>1440</td>\n",
       "      <td>0</td>\n",
       "      <td>0.0</td>\n",
       "      <td>0</td>\n",
       "      <td>0</td>\n",
       "      <td>12.0</td>\n",
       "      <td>0.919125</td>\n",
       "    </tr>\n",
       "    <tr>\n",
       "      <th>116</th>\n",
       "      <td>1/7/2015</td>\n",
       "      <td>Quarter1</td>\n",
       "      <td>sweing</td>\n",
       "      <td>Wednesday</td>\n",
       "      <td>6</td>\n",
       "      <td>0.80</td>\n",
       "      <td>11.41</td>\n",
       "      <td>986.0</td>\n",
       "      <td>5490</td>\n",
       "      <td>50</td>\n",
       "      <td>0.0</td>\n",
       "      <td>0</td>\n",
       "      <td>0</td>\n",
       "      <td>30.5</td>\n",
       "      <td>0.800344</td>\n",
       "    </tr>\n",
       "    <tr>\n",
       "      <th>961</th>\n",
       "      <td>2/26/2015</td>\n",
       "      <td>Quarter4</td>\n",
       "      <td>sweing</td>\n",
       "      <td>Thursday</td>\n",
       "      <td>1</td>\n",
       "      <td>0.35</td>\n",
       "      <td>26.66</td>\n",
       "      <td>1164.0</td>\n",
       "      <td>6600</td>\n",
       "      <td>23</td>\n",
       "      <td>0.0</td>\n",
       "      <td>0</td>\n",
       "      <td>2</td>\n",
       "      <td>55.0</td>\n",
       "      <td>0.378895</td>\n",
       "    </tr>\n",
       "    <tr>\n",
       "      <th>332</th>\n",
       "      <td>1/19/2015</td>\n",
       "      <td>Quarter3</td>\n",
       "      <td>sweing</td>\n",
       "      <td>Monday</td>\n",
       "      <td>7</td>\n",
       "      <td>0.80</td>\n",
       "      <td>48.84</td>\n",
       "      <td>1040.0</td>\n",
       "      <td>10260</td>\n",
       "      <td>30</td>\n",
       "      <td>0.0</td>\n",
       "      <td>0</td>\n",
       "      <td>0</td>\n",
       "      <td>57.0</td>\n",
       "      <td>0.576460</td>\n",
       "    </tr>\n",
       "    <tr>\n",
       "      <th>594</th>\n",
       "      <td>2/3/2015</td>\n",
       "      <td>Quarter1</td>\n",
       "      <td>sweing</td>\n",
       "      <td>Tuesday</td>\n",
       "      <td>8</td>\n",
       "      <td>0.70</td>\n",
       "      <td>24.26</td>\n",
       "      <td>1363.0</td>\n",
       "      <td>6660</td>\n",
       "      <td>0</td>\n",
       "      <td>0.0</td>\n",
       "      <td>0</td>\n",
       "      <td>0</td>\n",
       "      <td>55.5</td>\n",
       "      <td>0.586465</td>\n",
       "    </tr>\n",
       "  </tbody>\n",
       "</table>\n",
       "</div>"
      ],
      "text/plain": [
       "          date   quarter  department        day  team  targeted_productivity  \\\n",
       "531  1/31/2015  Quarter5  finishing    Saturday     6                   0.60   \n",
       "993   3/1/2015  Quarter1      sweing     Sunday    10                   0.70   \n",
       "664   2/8/2015  Quarter2      sweing     Sunday    12                   0.80   \n",
       "554   2/1/2015  Quarter1      sweing     Sunday    12                   0.75   \n",
       "900  2/23/2015  Quarter4   finishing     Monday     9                   0.80   \n",
       "825  2/18/2015  Quarter3   finishing  Wednesday     2                   0.80   \n",
       "116   1/7/2015  Quarter1      sweing  Wednesday     6                   0.80   \n",
       "961  2/26/2015  Quarter4      sweing   Thursday     1                   0.35   \n",
       "332  1/19/2015  Quarter3      sweing     Monday     7                   0.80   \n",
       "594   2/3/2015  Quarter1      sweing    Tuesday     8                   0.70   \n",
       "\n",
       "       smv     wip  over_time  incentive  idle_time  idle_men  \\\n",
       "531   3.94     NaN       1200          0        0.0         0   \n",
       "993  21.82  1393.0       5640         30        0.0         0   \n",
       "664  15.26  1026.0       2880         63        0.0         0   \n",
       "554  15.26  1276.0       1440         45        0.0         0   \n",
       "900   2.90     NaN        960          0        0.0         0   \n",
       "825   5.13     NaN       1440          0        0.0         0   \n",
       "116  11.41   986.0       5490         50        0.0         0   \n",
       "961  26.66  1164.0       6600         23        0.0         0   \n",
       "332  48.84  1040.0      10260         30        0.0         0   \n",
       "594  24.26  1363.0       6660          0        0.0         0   \n",
       "\n",
       "     no_of_style_change  no_of_workers  actual_productivity  \n",
       "531                   0           10.0             0.971867  \n",
       "993                   0           52.0             0.700237  \n",
       "664                   0           34.0             0.800355  \n",
       "554                   0           35.0             0.750451  \n",
       "900                   0            8.0             0.371563  \n",
       "825                   0           12.0             0.919125  \n",
       "116                   0           30.5             0.800344  \n",
       "961                   2           55.0             0.378895  \n",
       "332                   0           57.0             0.576460  \n",
       "594                   0           55.5             0.586465  "
      ]
     },
     "execution_count": 4,
     "metadata": {},
     "output_type": "execute_result"
    }
   ],
   "source": [
    "df.sample(n=10)"
   ]
  },
  {
   "cell_type": "code",
   "execution_count": 5,
   "id": "020d5537",
   "metadata": {},
   "outputs": [
    {
     "data": {
      "text/plain": [
       "(1197, 15)"
      ]
     },
     "execution_count": 5,
     "metadata": {},
     "output_type": "execute_result"
    }
   ],
   "source": [
    "df.shape"
   ]
  },
  {
   "cell_type": "markdown",
   "id": "e779eb83",
   "metadata": {},
   "source": [
    "Bộ dữ liệu có 1197 sample và 15 feature."
   ]
  },
  {
   "cell_type": "markdown",
   "id": "765e0460",
   "metadata": {},
   "source": [
    "## Data wrangling"
   ]
  },
  {
   "cell_type": "markdown",
   "id": "8dd802b2",
   "metadata": {},
   "source": [
    "Kiểm tra kiểu dữ liệu của từng cột."
   ]
  },
  {
   "cell_type": "code",
   "execution_count": 6,
   "id": "3acc2f55",
   "metadata": {},
   "outputs": [
    {
     "name": "stdout",
     "output_type": "stream",
     "text": [
      "<class 'pandas.core.frame.DataFrame'>\n",
      "RangeIndex: 1197 entries, 0 to 1196\n",
      "Data columns (total 15 columns):\n",
      " #   Column                 Non-Null Count  Dtype  \n",
      "---  ------                 --------------  -----  \n",
      " 0   date                   1197 non-null   object \n",
      " 1   quarter                1197 non-null   object \n",
      " 2   department             1197 non-null   object \n",
      " 3   day                    1197 non-null   object \n",
      " 4   team                   1197 non-null   int64  \n",
      " 5   targeted_productivity  1197 non-null   float64\n",
      " 6   smv                    1197 non-null   float64\n",
      " 7   wip                    691 non-null    float64\n",
      " 8   over_time              1197 non-null   int64  \n",
      " 9   incentive              1197 non-null   int64  \n",
      " 10  idle_time              1197 non-null   float64\n",
      " 11  idle_men               1197 non-null   int64  \n",
      " 12  no_of_style_change     1197 non-null   int64  \n",
      " 13  no_of_workers          1197 non-null   float64\n",
      " 14  actual_productivity    1197 non-null   float64\n",
      "dtypes: float64(6), int64(5), object(4)\n",
      "memory usage: 140.4+ KB\n"
     ]
    }
   ],
   "source": [
    "df.info()"
   ]
  },
  {
   "cell_type": "markdown",
   "id": "4b9cd93b",
   "metadata": {},
   "source": [
    "Chuyển kiểu của 'date' về dạng datetime."
   ]
  },
  {
   "cell_type": "code",
   "execution_count": 7,
   "id": "c7aad8e9",
   "metadata": {},
   "outputs": [],
   "source": [
    "df['date'] = pd.to_datetime(df['date'])"
   ]
  },
  {
   "cell_type": "code",
   "execution_count": 8,
   "id": "3dd1b098",
   "metadata": {},
   "outputs": [
    {
     "data": {
      "text/plain": [
       "343   2015-01-20\n",
       "990   2015-03-01\n",
       "186   2015-01-11\n",
       "866   2015-02-22\n",
       "251   2015-01-14\n",
       "Name: date, dtype: datetime64[ns]"
      ]
     },
     "execution_count": 8,
     "metadata": {},
     "output_type": "execute_result"
    }
   ],
   "source": [
    "df['date'].sample(n=5)"
   ]
  },
  {
   "cell_type": "markdown",
   "id": "4f0a8602",
   "metadata": {},
   "source": [
    "Xem các giá trị khác nhau của các biến kiểu object."
   ]
  },
  {
   "cell_type": "code",
   "execution_count": 9,
   "id": "a8d0522a",
   "metadata": {},
   "outputs": [
    {
     "data": {
      "text/plain": [
       "array(['Quarter1', 'Quarter2', 'Quarter3', 'Quarter4', 'Quarter5'],\n",
       "      dtype=object)"
      ]
     },
     "execution_count": 9,
     "metadata": {},
     "output_type": "execute_result"
    }
   ],
   "source": [
    "df['quarter'].unique()"
   ]
  },
  {
   "cell_type": "code",
   "execution_count": 10,
   "id": "635f771c",
   "metadata": {},
   "outputs": [
    {
     "data": {
      "text/plain": [
       "array(['sweing', 'finishing ', 'finishing'], dtype=object)"
      ]
     },
     "execution_count": 10,
     "metadata": {},
     "output_type": "execute_result"
    }
   ],
   "source": [
    "df['department'].unique()"
   ]
  },
  {
   "cell_type": "markdown",
   "id": "2cbc8c4e",
   "metadata": {},
   "source": [
    "Có 2 department là 'sweing' (bị viết sai chính tả) và 'finishing' (có 1 từ bị dư dấu cách cuối). Sửa lại cho đúng."
   ]
  },
  {
   "cell_type": "code",
   "execution_count": 11,
   "id": "cf220b54",
   "metadata": {},
   "outputs": [],
   "source": [
    "df['department'] = df['department'].apply(lambda x: 'sewing' if x == 'sweing' else 'finishing')"
   ]
  },
  {
   "cell_type": "code",
   "execution_count": 12,
   "id": "02a6c31f",
   "metadata": {},
   "outputs": [
    {
     "data": {
      "text/plain": [
       "array(['sewing', 'finishing'], dtype=object)"
      ]
     },
     "execution_count": 12,
     "metadata": {},
     "output_type": "execute_result"
    }
   ],
   "source": [
    "df['department'].unique()"
   ]
  },
  {
   "cell_type": "code",
   "execution_count": 13,
   "id": "bc46099e",
   "metadata": {},
   "outputs": [
    {
     "data": {
      "text/plain": [
       "array(['Thursday', 'Saturday', 'Sunday', 'Monday', 'Tuesday', 'Wednesday'],\n",
       "      dtype=object)"
      ]
     },
     "execution_count": 13,
     "metadata": {},
     "output_type": "execute_result"
    }
   ],
   "source": [
    "df['day'].unique()"
   ]
  },
  {
   "cell_type": "markdown",
   "id": "7877a8ac",
   "metadata": {},
   "source": [
    "Trong df['day'] không có 'Friday', các công nhân được nghỉ ngày thứ sáu."
   ]
  },
  {
   "cell_type": "code",
   "execution_count": 14,
   "id": "705ba98a",
   "metadata": {},
   "outputs": [
    {
     "data": {
      "text/plain": [
       "array([ 8,  1, 11, 12,  6,  7,  2,  3,  9, 10,  5,  4], dtype=int64)"
      ]
     },
     "execution_count": 14,
     "metadata": {},
     "output_type": "execute_result"
    }
   ],
   "source": [
    "df['team'].unique()"
   ]
  },
  {
   "cell_type": "markdown",
   "id": "babded33",
   "metadata": {},
   "source": [
    "Biến 'team' mang tính phân loại (categorical), vì ý nghĩa của nó là số thứ tự của team chứ không mang ý nghĩa về mặt giá trị số. Do đó chuyển về 'object' và phân tích như biến categorical."
   ]
  },
  {
   "cell_type": "code",
   "execution_count": 15,
   "id": "39cd77b3",
   "metadata": {},
   "outputs": [],
   "source": [
    "df['team'] = df['team'].apply(lambda x: 'Team'+str(int(x)))"
   ]
  },
  {
   "cell_type": "markdown",
   "id": "ca602da1",
   "metadata": {},
   "source": [
    "Kiểm tra giá trị null."
   ]
  },
  {
   "cell_type": "code",
   "execution_count": 16,
   "id": "a09a83c2",
   "metadata": {},
   "outputs": [
    {
     "data": {
      "text/plain": [
       "date                       0\n",
       "quarter                    0\n",
       "department                 0\n",
       "day                        0\n",
       "team                       0\n",
       "targeted_productivity      0\n",
       "smv                        0\n",
       "wip                      506\n",
       "over_time                  0\n",
       "incentive                  0\n",
       "idle_time                  0\n",
       "idle_men                   0\n",
       "no_of_style_change         0\n",
       "no_of_workers              0\n",
       "actual_productivity        0\n",
       "dtype: int64"
      ]
     },
     "execution_count": 16,
     "metadata": {},
     "output_type": "execute_result"
    }
   ],
   "source": [
    "df.isna().sum(axis=0)"
   ]
  },
  {
   "cell_type": "markdown",
   "id": "e9769cb4",
   "metadata": {},
   "source": [
    "Feature 'wip' có tới 506 giá trị null, ta điền giá trị khuyết bằng phương pháp kNN với thư viện sklearn."
   ]
  },
  {
   "cell_type": "code",
   "execution_count": 17,
   "id": "dbae131a",
   "metadata": {},
   "outputs": [],
   "source": [
    "from sklearn.impute import KNNImputer\n",
    "\n",
    "imputer = KNNImputer()\n",
    "df[df.columns[5:]] = imputer.fit_transform(df.iloc[:,5:])"
   ]
  },
  {
   "cell_type": "code",
   "execution_count": 18,
   "id": "2790f50e",
   "metadata": {
    "scrolled": true
   },
   "outputs": [
    {
     "data": {
      "text/plain": [
       "0"
      ]
     },
     "execution_count": 18,
     "metadata": {},
     "output_type": "execute_result"
    }
   ],
   "source": [
    "df['wip'].isna().sum()"
   ]
  },
  {
   "cell_type": "code",
   "execution_count": 19,
   "id": "be9babf1",
   "metadata": {},
   "outputs": [
    {
     "data": {
      "text/plain": [
       "0       1108.0\n",
       "1        994.4\n",
       "2        968.0\n",
       "3        968.0\n",
       "4       1170.0\n",
       "         ...  \n",
       "1192     994.4\n",
       "1193     994.4\n",
       "1194     994.4\n",
       "1195     632.8\n",
       "1196     926.0\n",
       "Name: wip, Length: 1197, dtype: float64"
      ]
     },
     "execution_count": 19,
     "metadata": {},
     "output_type": "execute_result"
    }
   ],
   "source": [
    "df['wip']"
   ]
  },
  {
   "cell_type": "markdown",
   "id": "292c6d3e",
   "metadata": {},
   "source": [
    "## Wrapping in a single function"
   ]
  },
  {
   "cell_type": "code",
   "execution_count": 20,
   "id": "f437a081",
   "metadata": {},
   "outputs": [],
   "source": [
    "def data_loader(path='https://archive.ics.uci.edu/ml/machine-learning-databases/00597/garments_worker_productivity.csv',\n",
    "                preprocessing=False):\n",
    "    df = pd.read_csv(path)\n",
    "    if preprocessing == True:\n",
    "        df['date'] = pd.to_datetime(df['date'])\n",
    "        df['department'] = df['department'].apply(lambda x: 'sewing' if x == 'sweing' else 'finishing')\n",
    "        df['team'] = df['team'].apply(lambda x: 'Team'+str(int(x)))\n",
    "        from sklearn.impute import KNNImputer\n",
    "        imputer = KNNImputer()\n",
    "        df[df.columns[5:]] = imputer.fit_transform(df.iloc[:,5:])\n",
    "    return df"
   ]
  },
  {
   "cell_type": "code",
   "execution_count": 21,
   "id": "cdc9b997",
   "metadata": {},
   "outputs": [],
   "source": [
    "df1 = data_loader(preprocessing=True)"
   ]
  },
  {
   "cell_type": "code",
   "execution_count": 22,
   "id": "500dbf6a",
   "metadata": {},
   "outputs": [
    {
     "data": {
      "text/plain": [
       "date                     datetime64[ns]\n",
       "quarter                          object\n",
       "department                       object\n",
       "day                              object\n",
       "team                             object\n",
       "targeted_productivity           float64\n",
       "smv                             float64\n",
       "wip                             float64\n",
       "over_time                       float64\n",
       "incentive                       float64\n",
       "idle_time                       float64\n",
       "idle_men                        float64\n",
       "no_of_style_change              float64\n",
       "no_of_workers                   float64\n",
       "actual_productivity             float64\n",
       "dtype: object"
      ]
     },
     "execution_count": 22,
     "metadata": {},
     "output_type": "execute_result"
    }
   ],
   "source": [
    "df1.dtypes"
   ]
  },
  {
   "cell_type": "code",
   "execution_count": 23,
   "id": "3e8f01cb",
   "metadata": {},
   "outputs": [
    {
     "data": {
      "text/plain": [
       "date                     0\n",
       "quarter                  0\n",
       "department               0\n",
       "day                      0\n",
       "team                     0\n",
       "targeted_productivity    0\n",
       "smv                      0\n",
       "wip                      0\n",
       "over_time                0\n",
       "incentive                0\n",
       "idle_time                0\n",
       "idle_men                 0\n",
       "no_of_style_change       0\n",
       "no_of_workers            0\n",
       "actual_productivity      0\n",
       "dtype: int64"
      ]
     },
     "execution_count": 23,
     "metadata": {},
     "output_type": "execute_result"
    }
   ],
   "source": [
    "df1.isna().sum(axis=0)"
   ]
  }
 ],
 "metadata": {
  "kernelspec": {
   "display_name": "TensorFlowGPU",
   "language": "python",
   "name": "tf_gpu"
  },
  "language_info": {
   "codemirror_mode": {
    "name": "ipython",
    "version": 3
   },
   "file_extension": ".py",
   "mimetype": "text/x-python",
   "name": "python",
   "nbconvert_exporter": "python",
   "pygments_lexer": "ipython3",
   "version": "3.8.0"
  }
 },
 "nbformat": 4,
 "nbformat_minor": 5
}
