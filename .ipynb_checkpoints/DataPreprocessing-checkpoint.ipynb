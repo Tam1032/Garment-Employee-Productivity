{
 "cells": [
  {
   "cell_type": "code",
   "execution_count": 2,
   "id": "90610aee",
   "metadata": {},
   "outputs": [],
   "source": [
    "import numpy as np\n",
    "import pandas as pd\n",
    "import matplotlib.pyplot as plt\n",
    "import seaborn as sns\n",
    "import scipy.stats as stats"
   ]
  },
  {
   "cell_type": "markdown",
   "id": "d00a0072",
   "metadata": {},
   "source": [
    "## Load dataset"
   ]
  },
  {
   "cell_type": "code",
   "execution_count": 3,
   "id": "6f283198",
   "metadata": {},
   "outputs": [],
   "source": [
    "path = 'https://archive.ics.uci.edu/ml/machine-learning-databases/00597/garments_worker_productivity.csv'"
   ]
  },
  {
   "cell_type": "code",
   "execution_count": 4,
   "id": "8ac4462c",
   "metadata": {},
   "outputs": [],
   "source": [
    "df = pd.read_csv(path)"
   ]
  },
  {
   "cell_type": "code",
   "execution_count": 5,
   "id": "52a20424",
   "metadata": {},
   "outputs": [
    {
     "data": {
      "text/html": [
       "<div>\n",
       "<style scoped>\n",
       "    .dataframe tbody tr th:only-of-type {\n",
       "        vertical-align: middle;\n",
       "    }\n",
       "\n",
       "    .dataframe tbody tr th {\n",
       "        vertical-align: top;\n",
       "    }\n",
       "\n",
       "    .dataframe thead th {\n",
       "        text-align: right;\n",
       "    }\n",
       "</style>\n",
       "<table border=\"1\" class=\"dataframe\">\n",
       "  <thead>\n",
       "    <tr style=\"text-align: right;\">\n",
       "      <th></th>\n",
       "      <th>date</th>\n",
       "      <th>quarter</th>\n",
       "      <th>department</th>\n",
       "      <th>day</th>\n",
       "      <th>team</th>\n",
       "      <th>targeted_productivity</th>\n",
       "      <th>smv</th>\n",
       "      <th>wip</th>\n",
       "      <th>over_time</th>\n",
       "      <th>incentive</th>\n",
       "      <th>idle_time</th>\n",
       "      <th>idle_men</th>\n",
       "      <th>no_of_style_change</th>\n",
       "      <th>no_of_workers</th>\n",
       "      <th>actual_productivity</th>\n",
       "    </tr>\n",
       "  </thead>\n",
       "  <tbody>\n",
       "    <tr>\n",
       "      <th>401</th>\n",
       "      <td>1/24/2015</td>\n",
       "      <td>Quarter4</td>\n",
       "      <td>finishing</td>\n",
       "      <td>Saturday</td>\n",
       "      <td>12</td>\n",
       "      <td>0.7</td>\n",
       "      <td>4.08</td>\n",
       "      <td>NaN</td>\n",
       "      <td>1620</td>\n",
       "      <td>0</td>\n",
       "      <td>0.0</td>\n",
       "      <td>0</td>\n",
       "      <td>0</td>\n",
       "      <td>9.0</td>\n",
       "      <td>0.858586</td>\n",
       "    </tr>\n",
       "    <tr>\n",
       "      <th>578</th>\n",
       "      <td>2/2/2015</td>\n",
       "      <td>Quarter1</td>\n",
       "      <td>finishing</td>\n",
       "      <td>Monday</td>\n",
       "      <td>6</td>\n",
       "      <td>0.6</td>\n",
       "      <td>2.90</td>\n",
       "      <td>NaN</td>\n",
       "      <td>1200</td>\n",
       "      <td>0</td>\n",
       "      <td>0.0</td>\n",
       "      <td>0</td>\n",
       "      <td>0</td>\n",
       "      <td>10.0</td>\n",
       "      <td>0.280333</td>\n",
       "    </tr>\n",
       "    <tr>\n",
       "      <th>343</th>\n",
       "      <td>1/20/2015</td>\n",
       "      <td>Quarter3</td>\n",
       "      <td>sweing</td>\n",
       "      <td>Tuesday</td>\n",
       "      <td>3</td>\n",
       "      <td>0.7</td>\n",
       "      <td>22.52</td>\n",
       "      <td>1134.0</td>\n",
       "      <td>8460</td>\n",
       "      <td>50</td>\n",
       "      <td>0.0</td>\n",
       "      <td>0</td>\n",
       "      <td>0</td>\n",
       "      <td>57.0</td>\n",
       "      <td>0.750038</td>\n",
       "    </tr>\n",
       "    <tr>\n",
       "      <th>196</th>\n",
       "      <td>1/12/2015</td>\n",
       "      <td>Quarter2</td>\n",
       "      <td>finishing</td>\n",
       "      <td>Monday</td>\n",
       "      <td>2</td>\n",
       "      <td>0.8</td>\n",
       "      <td>3.94</td>\n",
       "      <td>NaN</td>\n",
       "      <td>1440</td>\n",
       "      <td>0</td>\n",
       "      <td>0.0</td>\n",
       "      <td>0</td>\n",
       "      <td>0</td>\n",
       "      <td>8.0</td>\n",
       "      <td>0.880530</td>\n",
       "    </tr>\n",
       "    <tr>\n",
       "      <th>561</th>\n",
       "      <td>2/2/2015</td>\n",
       "      <td>Quarter1</td>\n",
       "      <td>sweing</td>\n",
       "      <td>Monday</td>\n",
       "      <td>1</td>\n",
       "      <td>0.8</td>\n",
       "      <td>22.94</td>\n",
       "      <td>16882.0</td>\n",
       "      <td>7020</td>\n",
       "      <td>113</td>\n",
       "      <td>0.0</td>\n",
       "      <td>0</td>\n",
       "      <td>0</td>\n",
       "      <td>58.5</td>\n",
       "      <td>1.000602</td>\n",
       "    </tr>\n",
       "    <tr>\n",
       "      <th>195</th>\n",
       "      <td>1/12/2015</td>\n",
       "      <td>Quarter2</td>\n",
       "      <td>finishing</td>\n",
       "      <td>Monday</td>\n",
       "      <td>3</td>\n",
       "      <td>0.8</td>\n",
       "      <td>4.15</td>\n",
       "      <td>NaN</td>\n",
       "      <td>1800</td>\n",
       "      <td>0</td>\n",
       "      <td>0.0</td>\n",
       "      <td>0</td>\n",
       "      <td>0</td>\n",
       "      <td>10.0</td>\n",
       "      <td>0.905455</td>\n",
       "    </tr>\n",
       "    <tr>\n",
       "      <th>408</th>\n",
       "      <td>1/24/2015</td>\n",
       "      <td>Quarter4</td>\n",
       "      <td>sweing</td>\n",
       "      <td>Saturday</td>\n",
       "      <td>5</td>\n",
       "      <td>0.7</td>\n",
       "      <td>20.40</td>\n",
       "      <td>1382.0</td>\n",
       "      <td>10440</td>\n",
       "      <td>50</td>\n",
       "      <td>0.0</td>\n",
       "      <td>0</td>\n",
       "      <td>0</td>\n",
       "      <td>58.0</td>\n",
       "      <td>0.700251</td>\n",
       "    </tr>\n",
       "    <tr>\n",
       "      <th>1031</th>\n",
       "      <td>3/3/2015</td>\n",
       "      <td>Quarter1</td>\n",
       "      <td>sweing</td>\n",
       "      <td>Tuesday</td>\n",
       "      <td>7</td>\n",
       "      <td>0.8</td>\n",
       "      <td>30.10</td>\n",
       "      <td>29.0</td>\n",
       "      <td>7080</td>\n",
       "      <td>50</td>\n",
       "      <td>0.0</td>\n",
       "      <td>0</td>\n",
       "      <td>0</td>\n",
       "      <td>59.0</td>\n",
       "      <td>0.800116</td>\n",
       "    </tr>\n",
       "    <tr>\n",
       "      <th>69</th>\n",
       "      <td>1/5/2015</td>\n",
       "      <td>Quarter1</td>\n",
       "      <td>sweing</td>\n",
       "      <td>Monday</td>\n",
       "      <td>8</td>\n",
       "      <td>0.8</td>\n",
       "      <td>25.90</td>\n",
       "      <td>1047.0</td>\n",
       "      <td>6780</td>\n",
       "      <td>38</td>\n",
       "      <td>0.0</td>\n",
       "      <td>0</td>\n",
       "      <td>0</td>\n",
       "      <td>56.5</td>\n",
       "      <td>0.800684</td>\n",
       "    </tr>\n",
       "    <tr>\n",
       "      <th>879</th>\n",
       "      <td>2/22/2015</td>\n",
       "      <td>Quarter4</td>\n",
       "      <td>sweing</td>\n",
       "      <td>Sunday</td>\n",
       "      <td>10</td>\n",
       "      <td>0.7</td>\n",
       "      <td>21.25</td>\n",
       "      <td>1531.0</td>\n",
       "      <td>6000</td>\n",
       "      <td>0</td>\n",
       "      <td>0.0</td>\n",
       "      <td>0</td>\n",
       "      <td>1</td>\n",
       "      <td>50.0</td>\n",
       "      <td>0.456875</td>\n",
       "    </tr>\n",
       "  </tbody>\n",
       "</table>\n",
       "</div>"
      ],
      "text/plain": [
       "           date   quarter  department       day  team  targeted_productivity  \\\n",
       "401   1/24/2015  Quarter4  finishing   Saturday    12                    0.7   \n",
       "578    2/2/2015  Quarter1  finishing     Monday     6                    0.6   \n",
       "343   1/20/2015  Quarter3      sweing   Tuesday     3                    0.7   \n",
       "196   1/12/2015  Quarter2  finishing     Monday     2                    0.8   \n",
       "561    2/2/2015  Quarter1      sweing    Monday     1                    0.8   \n",
       "195   1/12/2015  Quarter2  finishing     Monday     3                    0.8   \n",
       "408   1/24/2015  Quarter4      sweing  Saturday     5                    0.7   \n",
       "1031   3/3/2015  Quarter1      sweing   Tuesday     7                    0.8   \n",
       "69     1/5/2015  Quarter1      sweing    Monday     8                    0.8   \n",
       "879   2/22/2015  Quarter4      sweing    Sunday    10                    0.7   \n",
       "\n",
       "        smv      wip  over_time  incentive  idle_time  idle_men  \\\n",
       "401    4.08      NaN       1620          0        0.0         0   \n",
       "578    2.90      NaN       1200          0        0.0         0   \n",
       "343   22.52   1134.0       8460         50        0.0         0   \n",
       "196    3.94      NaN       1440          0        0.0         0   \n",
       "561   22.94  16882.0       7020        113        0.0         0   \n",
       "195    4.15      NaN       1800          0        0.0         0   \n",
       "408   20.40   1382.0      10440         50        0.0         0   \n",
       "1031  30.10     29.0       7080         50        0.0         0   \n",
       "69    25.90   1047.0       6780         38        0.0         0   \n",
       "879   21.25   1531.0       6000          0        0.0         0   \n",
       "\n",
       "      no_of_style_change  no_of_workers  actual_productivity  \n",
       "401                    0            9.0             0.858586  \n",
       "578                    0           10.0             0.280333  \n",
       "343                    0           57.0             0.750038  \n",
       "196                    0            8.0             0.880530  \n",
       "561                    0           58.5             1.000602  \n",
       "195                    0           10.0             0.905455  \n",
       "408                    0           58.0             0.700251  \n",
       "1031                   0           59.0             0.800116  \n",
       "69                     0           56.5             0.800684  \n",
       "879                    1           50.0             0.456875  "
      ]
     },
     "execution_count": 5,
     "metadata": {},
     "output_type": "execute_result"
    }
   ],
   "source": [
    "df.sample(n=10)"
   ]
  },
  {
   "cell_type": "code",
   "execution_count": 6,
   "id": "020d5537",
   "metadata": {},
   "outputs": [
    {
     "data": {
      "text/plain": [
       "(1197, 15)"
      ]
     },
     "execution_count": 6,
     "metadata": {},
     "output_type": "execute_result"
    }
   ],
   "source": [
    "df.shape"
   ]
  },
  {
   "cell_type": "markdown",
   "id": "e779eb83",
   "metadata": {},
   "source": [
    "Bộ dữ liệu có 1197 sample và 15 feature."
   ]
  },
  {
   "cell_type": "markdown",
   "id": "765e0460",
   "metadata": {},
   "source": [
    "## Data wrangling"
   ]
  },
  {
   "cell_type": "markdown",
   "id": "8dd802b2",
   "metadata": {},
   "source": [
    "### Kiểm tra kiểu dữ liệu của từng cột."
   ]
  },
  {
   "cell_type": "code",
   "execution_count": 7,
   "id": "3acc2f55",
   "metadata": {},
   "outputs": [
    {
     "name": "stdout",
     "output_type": "stream",
     "text": [
      "<class 'pandas.core.frame.DataFrame'>\n",
      "RangeIndex: 1197 entries, 0 to 1196\n",
      "Data columns (total 15 columns):\n",
      " #   Column                 Non-Null Count  Dtype  \n",
      "---  ------                 --------------  -----  \n",
      " 0   date                   1197 non-null   object \n",
      " 1   quarter                1197 non-null   object \n",
      " 2   department             1197 non-null   object \n",
      " 3   day                    1197 non-null   object \n",
      " 4   team                   1197 non-null   int64  \n",
      " 5   targeted_productivity  1197 non-null   float64\n",
      " 6   smv                    1197 non-null   float64\n",
      " 7   wip                    691 non-null    float64\n",
      " 8   over_time              1197 non-null   int64  \n",
      " 9   incentive              1197 non-null   int64  \n",
      " 10  idle_time              1197 non-null   float64\n",
      " 11  idle_men               1197 non-null   int64  \n",
      " 12  no_of_style_change     1197 non-null   int64  \n",
      " 13  no_of_workers          1197 non-null   float64\n",
      " 14  actual_productivity    1197 non-null   float64\n",
      "dtypes: float64(6), int64(5), object(4)\n",
      "memory usage: 140.4+ KB\n"
     ]
    }
   ],
   "source": [
    "df.info()"
   ]
  },
  {
   "cell_type": "markdown",
   "id": "4b9cd93b",
   "metadata": {},
   "source": [
    "Chuyển kiểu của `date` về dạng datetime."
   ]
  },
  {
   "cell_type": "code",
   "execution_count": 8,
   "id": "c7aad8e9",
   "metadata": {},
   "outputs": [],
   "source": [
    "df['date'] = pd.to_datetime(df['date'])"
   ]
  },
  {
   "cell_type": "code",
   "execution_count": 9,
   "id": "3dd1b098",
   "metadata": {},
   "outputs": [
    {
     "data": {
      "text/plain": [
       "868    2015-02-22\n",
       "504    2015-01-29\n",
       "336    2015-01-19\n",
       "1133   2015-03-09\n",
       "811    2015-02-17\n",
       "Name: date, dtype: datetime64[ns]"
      ]
     },
     "execution_count": 9,
     "metadata": {},
     "output_type": "execute_result"
    }
   ],
   "source": [
    "df['date'].sample(n=5)"
   ]
  },
  {
   "cell_type": "markdown",
   "id": "4f0a8602",
   "metadata": {},
   "source": [
    "### Xem các giá trị khác nhau của các biến kiểu object."
   ]
  },
  {
   "cell_type": "code",
   "execution_count": 10,
   "id": "a8d0522a",
   "metadata": {},
   "outputs": [
    {
     "data": {
      "text/plain": [
       "array(['Quarter1', 'Quarter2', 'Quarter3', 'Quarter4', 'Quarter5'],\n",
       "      dtype=object)"
      ]
     },
     "execution_count": 10,
     "metadata": {},
     "output_type": "execute_result"
    }
   ],
   "source": [
    "df['quarter'].unique()"
   ]
  },
  {
   "cell_type": "code",
   "execution_count": 11,
   "id": "635f771c",
   "metadata": {},
   "outputs": [
    {
     "data": {
      "text/plain": [
       "array(['sweing', 'finishing ', 'finishing'], dtype=object)"
      ]
     },
     "execution_count": 11,
     "metadata": {},
     "output_type": "execute_result"
    }
   ],
   "source": [
    "df['department'].unique()"
   ]
  },
  {
   "cell_type": "markdown",
   "id": "2cbc8c4e",
   "metadata": {},
   "source": [
    "Có 2 department là `sweing` (bị viết sai chính tả) và `finishing` (có 1 từ bị dư dấu cách cuối). Sửa lại cho đúng."
   ]
  },
  {
   "cell_type": "code",
   "execution_count": 12,
   "id": "cf220b54",
   "metadata": {},
   "outputs": [],
   "source": [
    "df['department'] = df['department'].apply(lambda x: 'sewing' if x == 'sweing' else 'finishing')"
   ]
  },
  {
   "cell_type": "code",
   "execution_count": 13,
   "id": "02a6c31f",
   "metadata": {},
   "outputs": [
    {
     "data": {
      "text/plain": [
       "array(['sewing', 'finishing'], dtype=object)"
      ]
     },
     "execution_count": 13,
     "metadata": {},
     "output_type": "execute_result"
    }
   ],
   "source": [
    "df['department'].unique()"
   ]
  },
  {
   "cell_type": "code",
   "execution_count": 14,
   "id": "bc46099e",
   "metadata": {},
   "outputs": [
    {
     "data": {
      "text/plain": [
       "array(['Thursday', 'Saturday', 'Sunday', 'Monday', 'Tuesday', 'Wednesday'],\n",
       "      dtype=object)"
      ]
     },
     "execution_count": 14,
     "metadata": {},
     "output_type": "execute_result"
    }
   ],
   "source": [
    "df['day'].unique()"
   ]
  },
  {
   "cell_type": "markdown",
   "id": "7877a8ac",
   "metadata": {},
   "source": [
    "Trong các giá trị của biến `day` không có 'Friday' $\\rightarrow$ các công nhân được nghỉ ngày thứ sáu."
   ]
  },
  {
   "cell_type": "code",
   "execution_count": 15,
   "id": "705ba98a",
   "metadata": {},
   "outputs": [
    {
     "data": {
      "text/plain": [
       "array([ 8,  1, 11, 12,  6,  7,  2,  3,  9, 10,  5,  4], dtype=int64)"
      ]
     },
     "execution_count": 15,
     "metadata": {},
     "output_type": "execute_result"
    }
   ],
   "source": [
    "df['team'].unique()"
   ]
  },
  {
   "cell_type": "markdown",
   "id": "babded33",
   "metadata": {},
   "source": [
    "Biến `team` mang tính phân loại (categorical), vì ý nghĩa của nó là số thứ tự của team chứ không mang ý nghĩa về mặt giá trị số. Do đó chuyển về 'object' và phân tích như biến categorical."
   ]
  },
  {
   "cell_type": "code",
   "execution_count": 16,
   "id": "39cd77b3",
   "metadata": {},
   "outputs": [],
   "source": [
    "df['team'] = df['team'].apply(lambda x: 'Team'+str(int(x)))"
   ]
  },
  {
   "cell_type": "markdown",
   "id": "ca602da1",
   "metadata": {},
   "source": [
    "### Kiểm tra giá trị null."
   ]
  },
  {
   "cell_type": "code",
   "execution_count": 17,
   "id": "a09a83c2",
   "metadata": {},
   "outputs": [
    {
     "data": {
      "text/plain": [
       "date                       0\n",
       "quarter                    0\n",
       "department                 0\n",
       "day                        0\n",
       "team                       0\n",
       "targeted_productivity      0\n",
       "smv                        0\n",
       "wip                      506\n",
       "over_time                  0\n",
       "incentive                  0\n",
       "idle_time                  0\n",
       "idle_men                   0\n",
       "no_of_style_change         0\n",
       "no_of_workers              0\n",
       "actual_productivity        0\n",
       "dtype: int64"
      ]
     },
     "execution_count": 17,
     "metadata": {},
     "output_type": "execute_result"
    }
   ],
   "source": [
    "df.isna().sum(axis=0)"
   ]
  },
  {
   "cell_type": "markdown",
   "id": "e9769cb4",
   "metadata": {},
   "source": [
    "Feature `wip` có tới 506 giá trị null, ta điền giá trị khuyết bằng phương pháp kNN Imputer với thư viện sklearn."
   ]
  },
  {
   "cell_type": "code",
   "execution_count": 18,
   "id": "dbae131a",
   "metadata": {},
   "outputs": [],
   "source": [
    "from sklearn.impute import KNNImputer\n",
    "\n",
    "imputer = KNNImputer()\n",
    "df[df.columns[5:]] = imputer.fit_transform(df.iloc[:,5:])"
   ]
  },
  {
   "cell_type": "code",
   "execution_count": 19,
   "id": "2790f50e",
   "metadata": {
    "scrolled": true
   },
   "outputs": [
    {
     "data": {
      "text/plain": [
       "0"
      ]
     },
     "execution_count": 19,
     "metadata": {},
     "output_type": "execute_result"
    }
   ],
   "source": [
    "df['wip'].isna().sum()"
   ]
  },
  {
   "cell_type": "code",
   "execution_count": 20,
   "id": "be9babf1",
   "metadata": {},
   "outputs": [
    {
     "data": {
      "text/plain": [
       "0       1108.0\n",
       "1        994.4\n",
       "2        968.0\n",
       "3        968.0\n",
       "4       1170.0\n",
       "         ...  \n",
       "1192     994.4\n",
       "1193     994.4\n",
       "1194     994.4\n",
       "1195     632.8\n",
       "1196     926.0\n",
       "Name: wip, Length: 1197, dtype: float64"
      ]
     },
     "execution_count": 20,
     "metadata": {},
     "output_type": "execute_result"
    }
   ],
   "source": [
    "df['wip']"
   ]
  },
  {
   "cell_type": "markdown",
   "id": "292c6d3e",
   "metadata": {},
   "source": [
    "## Wrapping in a single function"
   ]
  },
  {
   "cell_type": "code",
   "execution_count": 21,
   "id": "f437a081",
   "metadata": {},
   "outputs": [],
   "source": [
    "def data_loader(path='https://archive.ics.uci.edu/ml/machine-learning-databases/00597/garments_worker_productivity.csv',\n",
    "                preprocessing=False):\n",
    "    df = pd.read_csv(path)\n",
    "    if preprocessing == True:\n",
    "        df['date'] = pd.to_datetime(df['date'])\n",
    "        df['department'] = df['department'].apply(lambda x: 'sewing' if x == 'sweing' else 'finishing')\n",
    "        df['team'] = df['team'].apply(lambda x: 'Team'+str(int(x)))\n",
    "        from sklearn.impute import KNNImputer\n",
    "        imputer = KNNImputer()\n",
    "        df[df.columns[5:]] = imputer.fit_transform(df.iloc[:,5:])\n",
    "    return df"
   ]
  },
  {
   "cell_type": "code",
   "execution_count": 22,
   "id": "cdc9b997",
   "metadata": {},
   "outputs": [],
   "source": [
    "df1 = data_loader(preprocessing=True)"
   ]
  },
  {
   "cell_type": "code",
   "execution_count": 23,
   "id": "500dbf6a",
   "metadata": {},
   "outputs": [
    {
     "data": {
      "text/plain": [
       "date                     datetime64[ns]\n",
       "quarter                          object\n",
       "department                       object\n",
       "day                              object\n",
       "team                             object\n",
       "targeted_productivity           float64\n",
       "smv                             float64\n",
       "wip                             float64\n",
       "over_time                       float64\n",
       "incentive                       float64\n",
       "idle_time                       float64\n",
       "idle_men                        float64\n",
       "no_of_style_change              float64\n",
       "no_of_workers                   float64\n",
       "actual_productivity             float64\n",
       "dtype: object"
      ]
     },
     "execution_count": 23,
     "metadata": {},
     "output_type": "execute_result"
    }
   ],
   "source": [
    "df1.dtypes"
   ]
  },
  {
   "cell_type": "code",
   "execution_count": 24,
   "id": "3e8f01cb",
   "metadata": {},
   "outputs": [
    {
     "data": {
      "text/plain": [
       "date                     0\n",
       "quarter                  0\n",
       "department               0\n",
       "day                      0\n",
       "team                     0\n",
       "targeted_productivity    0\n",
       "smv                      0\n",
       "wip                      0\n",
       "over_time                0\n",
       "incentive                0\n",
       "idle_time                0\n",
       "idle_men                 0\n",
       "no_of_style_change       0\n",
       "no_of_workers            0\n",
       "actual_productivity      0\n",
       "dtype: int64"
      ]
     },
     "execution_count": 24,
     "metadata": {},
     "output_type": "execute_result"
    }
   ],
   "source": [
    "df1.isna().sum(axis=0)"
   ]
  },
  {
   "cell_type": "code",
   "execution_count": 26,
   "id": "1f3fd1e7",
   "metadata": {},
   "outputs": [],
   "source": [
    "# Lưu dữ liệu\n",
    "df1.to_csv(\"preprocess_data.csv\", index=False)"
   ]
  }
 ],
 "metadata": {
  "kernelspec": {
   "display_name": "Python 3 (ipykernel)",
   "language": "python",
   "name": "python3"
  },
  "language_info": {
   "codemirror_mode": {
    "name": "ipython",
    "version": 3
   },
   "file_extension": ".py",
   "mimetype": "text/x-python",
   "name": "python",
   "nbconvert_exporter": "python",
   "pygments_lexer": "ipython3",
   "version": "3.9.7"
  }
 },
 "nbformat": 4,
 "nbformat_minor": 5
}
